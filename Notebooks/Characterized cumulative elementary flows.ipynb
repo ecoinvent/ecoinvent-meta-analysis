{
 "cells": [
  {
   "cell_type": "markdown",
   "id": "14e4e1ae-d690-427a-b9e7-4f58397dc456",
   "metadata": {},
   "source": [
    "# Characterized cumulative elementary flows\n",
    "\n",
    "This notebook does metaanalysis of the respective importance cumulative, characterized elementary flows.\n",
    "\n",
    "For each elementary (biosphere) flow, each activity in ecoinvent-3.9.1-cutoff, and and each impact category implemented in 3.9.1, we calculate:\n",
    "\n",
    "* The average normalized score across all activities per flow and impact category\n",
    "* The median normalized score across all activities per flow and impact category\n",
    "* The average and median ranks across all activities per flow and impact category\n",
    "\n",
    "## Set up environment and project with ecoinvent database"
   ]
  },
  {
   "cell_type": "code",
   "execution_count": 1,
   "id": "caaf52ce-0520-4579-829b-a1098106baf1",
   "metadata": {},
   "outputs": [],
   "source": [
    "import bw2data as bd\n",
    "import bw2calc as bc\n",
    "import bw_processing as bwp\n",
    "import numpy as np\n",
    "import itertools\n",
    "import tqdm\n",
    "import pandas as pd\n",
    "from pathlib import Path"
   ]
  },
  {
   "cell_type": "code",
   "execution_count": 2,
   "id": "6c75365a-4f3e-4814-86f4-69dc1fdfbe99",
   "metadata": {},
   "outputs": [],
   "source": [
    "bd.projects.set_current(\"ecoinvent-3.9-cutoff\")"
   ]
  },
  {
   "cell_type": "code",
   "execution_count": 3,
   "id": "dca87a28-20ce-4f51-a531-2be4baf0eed7",
   "metadata": {},
   "outputs": [],
   "source": [
    "ROOT_DIR = Path.cwd().parent.resolve()\n",
    "CACHE_DIR = ROOT_DIR / \"Cache\"\n",
    "OUTPUT_DIR = ROOT_DIR / \"Outputs\""
   ]
  },
  {
   "cell_type": "code",
   "execution_count": 4,
   "id": "0768399b-6781-482f-aa81-3e0cb95a77eb",
   "metadata": {},
   "outputs": [
    {
     "data": {
      "text/plain": [
       "762"
      ]
     },
     "execution_count": 4,
     "metadata": {},
     "output_type": "execute_result"
    }
   ],
   "source": [
    "methods = sorted(bd.methods)\n",
    "len(methods)"
   ]
  },
  {
   "cell_type": "code",
   "execution_count": 5,
   "id": "0e9a6417-90a3-4713-841c-e2ec03b50cc6",
   "metadata": {},
   "outputs": [
    {
     "data": {
      "text/plain": [
       "21255"
      ]
     },
     "execution_count": 5,
     "metadata": {},
     "output_type": "execute_result"
    }
   ],
   "source": [
    "ei = bd.Database(\"ecoinvent-3.9-cutoff\")\n",
    "len(ei)"
   ]
  },
  {
   "cell_type": "markdown",
   "id": "579f16a9-8563-4153-903e-56e6b575f77b",
   "metadata": {},
   "source": [
    "## Filter activities to only consider markets\n",
    "\n",
    "This isn't perfect, but a reasonable attempt to only get \"real\" activities which produce useful products or services."
   ]
  },
  {
   "cell_type": "code",
   "execution_count": 6,
   "id": "d7c92686-8024-414e-9c66-f70f5f854c83",
   "metadata": {},
   "outputs": [
    {
     "data": {
      "text/plain": [
       "6403"
      ]
     },
     "execution_count": 6,
     "metadata": {},
     "output_type": "execute_result"
    }
   ],
   "source": [
    "markets = sorted(\n",
    "    [x for x in ei if x['name'].startswith(\"market for\")],\n",
    "    key=lambda x: (x['name'], x['reference product'], x['location'], x['unit'], x['code'])\n",
    ")\n",
    "len(markets)"
   ]
  },
  {
   "cell_type": "markdown",
   "id": "27baaf2e-4506-4f5a-a03b-53b234944a0d",
   "metadata": {},
   "source": [
    "## Set up calculations\n",
    "\n",
    "One `LCA` object for all calculations saves creating and factoring the technosphere each time."
   ]
  },
  {
   "cell_type": "code",
   "execution_count": 7,
   "id": "f9a35863-80bd-4024-8847-f19740c50a5f",
   "metadata": {},
   "outputs": [
    {
     "name": "stderr",
     "output_type": "stream",
     "text": [
      "/Users/chrismutel/miniconda3/envs/bw25/lib/python3.10/site-packages/scikits/umfpack/umfpack.py:736: UmfpackWarning: (almost) singular matrix! (estimated cond. number: 4.37e+13)\n",
      "  warnings.warn(msg, UmfpackWarning)\n"
     ]
    }
   ],
   "source": [
    "lca = bc.LCA({markets[0]: 1}, method=methods[0])\n",
    "lca.lci()\n",
    "lca.lcia()"
   ]
  },
  {
   "cell_type": "markdown",
   "id": "63a56df7-88a0-4254-aad7-374f197d4c08",
   "metadata": {},
   "source": [
    "## Get all characterization matrices\n",
    "\n",
    "Instead of building them each time for each activity, only build them once."
   ]
  },
  {
   "cell_type": "code",
   "execution_count": 8,
   "id": "3341196b-b17f-4490-9e7c-0381f68f8203",
   "metadata": {},
   "outputs": [],
   "source": [
    "method_matrices = {}"
   ]
  },
  {
   "cell_type": "code",
   "execution_count": 9,
   "id": "23e43bc5-b5cc-4b1b-81b0-67e43e8db5d5",
   "metadata": {},
   "outputs": [
    {
     "name": "stderr",
     "output_type": "stream",
     "text": [
      "100%|████████████████████████████████████████| 762/762 [00:02<00:00, 311.47it/s]\n"
     ]
    }
   ],
   "source": [
    "for method_tuple in tqdm.tqdm(methods):\n",
    "    lca.switch_method(method_tuple)\n",
    "    method_matrices[method_tuple] = lca.characterization_matrix.copy()"
   ]
  },
  {
   "cell_type": "code",
   "execution_count": 10,
   "id": "8bf7cca4-e07a-47f6-abd3-64ee71dd7197",
   "metadata": {},
   "outputs": [],
   "source": [
    "def calculate_inventory_results() -> np.ndarray:\n",
    "    \"\"\"Calculate inventory results, or load from cache\"\"\"\n",
    "    cache_filepath = CACHE_DIR / \"inventory-all-activities-391.npy\"\n",
    "    \n",
    "    if cache_filepath.is_file():\n",
    "        return np.load(cache_filepath)\n",
    "    else:\n",
    "        results = np.zeros((lca.biosphere_matrix.shape[0], len(markets)), dtype=np.float32)\n",
    "        results.shape  \n",
    "\n",
    "        for market_index, market in enumerate(tqdm.tqdm(markets)):\n",
    "            lca.lci({market.id: 1})\n",
    "            results[:, market_index] = lca.inventory.sum(axis=1).ravel()\n",
    "\n",
    "        np.save(cache_filepath, results)    \n",
    "        return results"
   ]
  },
  {
   "cell_type": "code",
   "execution_count": 11,
   "id": "d359e336-28b5-48ec-adb0-70899ecc4708",
   "metadata": {},
   "outputs": [
    {
     "data": {
      "text/plain": [
       "(2420, 6403)"
      ]
     },
     "execution_count": 11,
     "metadata": {},
     "output_type": "execute_result"
    }
   ],
   "source": [
    "results = calculate_inventory_results()\n",
    "results.shape"
   ]
  },
  {
   "cell_type": "markdown",
   "id": "1f11bc4d-cb14-4093-a0cd-2cbd6208a754",
   "metadata": {},
   "source": [
    "## Construct containers for results"
   ]
  },
  {
   "cell_type": "code",
   "execution_count": 12,
   "id": "456c6045-9035-4e65-9288-662d1f6edfe4",
   "metadata": {},
   "outputs": [],
   "source": [
    "results_mean = np.zeros((lca.biosphere_matrix.shape[0], len(methods)))\n",
    "results_median = np.zeros((lca.biosphere_matrix.shape[0], len(methods)))\n",
    "# Not helpful, or maybe calculation bug?\n",
    "# results_mean_rank = np.zeros((lca.biosphere_matrix.shape[0], len(methods)))\n",
    "results_median_rank = np.zeros((lca.biosphere_matrix.shape[0], len(methods)))"
   ]
  },
  {
   "cell_type": "markdown",
   "id": "eb1a33f0-789a-4efa-87ef-2141ee7e0966",
   "metadata": {},
   "source": [
    "## Caculate indices for elementary flows\n",
    "\n",
    "Note that we do the following:\n",
    "\n",
    "* Take the absolute value of all characterized inventory results - we want importance, not the numeric sign\n",
    "* Normalize by the total per activity and impact category\n",
    "* Fix division by zero errors by setting `NaN` to zero."
   ]
  },
  {
   "cell_type": "code",
   "execution_count": 14,
   "id": "a44e7575-747c-4c43-ad77-f4b715ae37d7",
   "metadata": {},
   "outputs": [
    {
     "name": "stderr",
     "output_type": "stream",
     "text": [
      "100%|█████████████████████████████████████████| 762/762 [08:26<00:00,  1.50it/s]\n"
     ]
    }
   ],
   "source": [
    "for method_index, method_tuple in enumerate(tqdm.tqdm(methods)):\n",
    "    matrix = np.abs(method_matrices[method_tuple] @ results)\n",
    "    normalized = (matrix / matrix.sum(axis=0))\n",
    "    normalized[np.isnan(normalized)] = 0\n",
    "    results_mean[:, method_index] = np.mean(normalized, axis=1)\n",
    "    results_median[:, method_index] = np.median(normalized, axis=1)    \n",
    "    \n",
    "    ranks = np.abs(normalized.argsort(axis=0).argsort(axis=0) - normalized.shape[0])\n",
    "    row_zero = normalized.sum(axis=1) == 0\n",
    "    ranks[row_zero, :] = 0\n",
    "    # results_mean_rank[:, method_index] = np.mean(ranks, axis=1)\n",
    "    results_median_rank[:, method_index] = np.median(ranks, axis=1)        "
   ]
  },
  {
   "cell_type": "markdown",
   "id": "1f249030-53c7-4c76-8599-8270d56aa091",
   "metadata": {},
   "source": [
    "## Export results"
   ]
  },
  {
   "cell_type": "code",
   "execution_count": 15,
   "id": "d144447e-7fa9-4abc-a145-0e3c7ae4422f",
   "metadata": {},
   "outputs": [],
   "source": [
    "def get_labelled_results(array):\n",
    "    formatted_results = []\n",
    "\n",
    "    for index in tqdm.tqdm(range(lca.biosphere_matrix.shape[0])):\n",
    "        node = bd.get_node(id=lca.dicts.biosphere.reversed[index])\n",
    "        row = {\n",
    "            'name': node['name'],\n",
    "            'unit': node['unit'],\n",
    "            'category_primary': node['categories'][0],\n",
    "            'category_secondary': node['categories'][1] if len(node['categories']) > 1 else None,\n",
    "            'id': node['code'],\n",
    "        } | {\n",
    "            \"|\".join(method_tuple): float(array[index, method_index]) or None\n",
    "            for method_index, method_tuple in enumerate(methods)\n",
    "        }\n",
    "        formatted_results.append(row)\n",
    "\n",
    "    formatted_results.sort(key=lambda x: (x['name'], x['category_primary'], x['category_secondary'] or '', x['unit']))\n",
    "        \n",
    "    return formatted_results"
   ]
  },
  {
   "cell_type": "code",
   "execution_count": 16,
   "id": "99fbf07e-82be-496c-b758-6c20b23d6e05",
   "metadata": {},
   "outputs": [
    {
     "name": "stderr",
     "output_type": "stream",
     "text": [
      "100%|█████████████████████████████████████| 2420/2420 [00:00<00:00, 2705.37it/s]\n"
     ]
    }
   ],
   "source": [
    "pd.DataFrame(get_labelled_results(results_mean)).to_csv(OUTPUT_DIR / \"3.9.1-elementary-mean.csv\", index=False)"
   ]
  },
  {
   "cell_type": "code",
   "execution_count": 17,
   "id": "18ff90ea-bfd0-4a18-a0b9-e0c43ef33c95",
   "metadata": {},
   "outputs": [
    {
     "name": "stderr",
     "output_type": "stream",
     "text": [
      "100%|█████████████████████████████████████| 2420/2420 [00:00<00:00, 2918.25it/s]\n"
     ]
    }
   ],
   "source": [
    "pd.DataFrame(get_labelled_results(results_median)).to_csv(OUTPUT_DIR / \"3.9.1-elementary-median.csv\", index=False)"
   ]
  },
  {
   "cell_type": "code",
   "execution_count": 18,
   "id": "47dd6236-6d96-4bde-be9e-f22d7f8be02a",
   "metadata": {},
   "outputs": [
    {
     "name": "stderr",
     "output_type": "stream",
     "text": [
      "100%|█████████████████████████████████████| 2420/2420 [00:00<00:00, 2934.77it/s]\n"
     ]
    }
   ],
   "source": [
    "pd.DataFrame(get_labelled_results(results_median_rank)).to_csv(OUTPUT_DIR / \"3.9.1-elementary-median-rank.csv\", index=False)"
   ]
  }
 ],
 "metadata": {
  "kernelspec": {
   "display_name": "Python 3 (ipykernel)",
   "language": "python",
   "name": "python3"
  },
  "language_info": {
   "codemirror_mode": {
    "name": "ipython",
    "version": 3
   },
   "file_extension": ".py",
   "mimetype": "text/x-python",
   "name": "python",
   "nbconvert_exporter": "python",
   "pygments_lexer": "ipython3",
   "version": "3.10.6"
  }
 },
 "nbformat": 4,
 "nbformat_minor": 5
}
